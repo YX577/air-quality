{
  "metadata": {
    "kernelspec": {
      "display_name": "Python 3",
      "language": "python",
      "name": "python3"
    },
    "language_info": {
      "codemirror_mode": {
        "name": "ipython",
        "version": 3
      },
      "file_extension": ".py",
      "mimetype": "text/x-python",
      "name": "python",
      "nbconvert_exporter": "python",
      "pygments_lexer": "ipython3",
      "version": "3.6.0"
    }
  },
  "nbformat": 4,
  "nbformat_minor": 0,
  "cells": [
    {
      "cell_type": "markdown",
      "source": "I make a little experiment for this dataset and make a neural network classifying using scikit-learn library.",
      "execution_count": null,
      "outputs": [],
      "metadata": {}
    },
    {
      "cell_type": "code",
      "source": "import pandas as pd",
      "execution_count": 91,
      "outputs": [],
      "metadata": {}
    },
    {
      "cell_type": "code",
      "source": "df = pd.read_csv('../input/AirQualityUCI.csv')",
      "execution_count": 92,
      "outputs": [],
      "metadata": {}
    },
    {
      "cell_type": "code",
      "source": "df.head()",
      "execution_count": 93,
      "outputs": [
        {
          "data": {
            "text/html": "<div>\n<table border=\"1\" class=\"dataframe\">\n  <thead>\n    <tr style=\"text-align: right;\">\n      <th></th>\n      <th>Date</th>\n      <th>Time</th>\n      <th>CO_GT</th>\n      <th>PT08_S1_CO</th>\n      <th>NMHC_GT</th>\n      <th>C6H6_GT</th>\n      <th>PT08_S2_NMHC</th>\n      <th>Nox_GT</th>\n      <th>PT08_S3_Nox</th>\n      <th>NO2_GT</th>\n      <th>PT08_S4_NO2</th>\n      <th>PT08_S5_O3</th>\n      <th>T</th>\n      <th>RH</th>\n      <th>AH</th>\n      <th>CO_level</th>\n    </tr>\n  </thead>\n  <tbody>\n    <tr>\n      <th>0</th>\n      <td>11/23/2004</td>\n      <td>19:00:00</td>\n      <td>11.9</td>\n      <td>2008</td>\n      <td>-200</td>\n      <td>50.6</td>\n      <td>1980</td>\n      <td>1389</td>\n      <td>325</td>\n      <td>220</td>\n      <td>2562</td>\n      <td>2342</td>\n      <td>12.4</td>\n      <td>74.7</td>\n      <td>1.0741</td>\n      <td>Very High</td>\n    </tr>\n    <tr>\n      <th>1</th>\n      <td>11/23/2004</td>\n      <td>20:00:00</td>\n      <td>11.5</td>\n      <td>1918</td>\n      <td>-200</td>\n      <td>49.4</td>\n      <td>1958</td>\n      <td>1358</td>\n      <td>335</td>\n      <td>190</td>\n      <td>2477</td>\n      <td>2237</td>\n      <td>11.5</td>\n      <td>76.2</td>\n      <td>1.0324</td>\n      <td>Very High</td>\n    </tr>\n    <tr>\n      <th>2</th>\n      <td>11/17/2004</td>\n      <td>18:00:00</td>\n      <td>10.2</td>\n      <td>1802</td>\n      <td>-200</td>\n      <td>47.7</td>\n      <td>1924</td>\n      <td>748</td>\n      <td>356</td>\n      <td>192</td>\n      <td>2235</td>\n      <td>2452</td>\n      <td>13.7</td>\n      <td>52.8</td>\n      <td>0.8244</td>\n      <td>Very High</td>\n    </tr>\n    <tr>\n      <th>3</th>\n      <td>11/23/2004</td>\n      <td>18:00:00</td>\n      <td>10.2</td>\n      <td>1982</td>\n      <td>-200</td>\n      <td>49.5</td>\n      <td>1959</td>\n      <td>1369</td>\n      <td>322</td>\n      <td>227</td>\n      <td>2536</td>\n      <td>2386</td>\n      <td>13.2</td>\n      <td>72.6</td>\n      <td>1.0936</td>\n      <td>Very High</td>\n    </tr>\n    <tr>\n      <th>4</th>\n      <td>11/26/2004</td>\n      <td>18:00:00</td>\n      <td>10.1</td>\n      <td>1956</td>\n      <td>-200</td>\n      <td>45.2</td>\n      <td>1877</td>\n      <td>1389</td>\n      <td>347</td>\n      <td>255</td>\n      <td>2338</td>\n      <td>2465</td>\n      <td>15.5</td>\n      <td>62.8</td>\n      <td>1.0979</td>\n      <td>Very High</td>\n    </tr>\n  </tbody>\n</table>\n</div>",
            "text/plain": "         Date      Time  CO_GT  PT08_S1_CO  NMHC_GT  C6H6_GT  PT08_S2_NMHC  \\\n0  11/23/2004  19:00:00   11.9        2008     -200     50.6          1980   \n1  11/23/2004  20:00:00   11.5        1918     -200     49.4          1958   \n2  11/17/2004  18:00:00   10.2        1802     -200     47.7          1924   \n3  11/23/2004  18:00:00   10.2        1982     -200     49.5          1959   \n4  11/26/2004  18:00:00   10.1        1956     -200     45.2          1877   \n\n   Nox_GT  PT08_S3_Nox  NO2_GT  PT08_S4_NO2  PT08_S5_O3     T    RH      AH  \\\n0    1389          325     220         2562        2342  12.4  74.7  1.0741   \n1    1358          335     190         2477        2237  11.5  76.2  1.0324   \n2     748          356     192         2235        2452  13.7  52.8  0.8244   \n3    1369          322     227         2536        2386  13.2  72.6  1.0936   \n4    1389          347     255         2338        2465  15.5  62.8  1.0979   \n\n    CO_level  \n0  Very High  \n1  Very High  \n2  Very High  \n3  Very High  \n4  Very High  "
          },
          "execution_count": 93,
          "metadata": {},
          "output_type": "execute_result"
        }
      ],
      "metadata": {}
    },
    {
      "cell_type": "code",
      "source": "df.info()",
      "execution_count": 94,
      "outputs": [
        {
          "name": "stdout",
          "output_type": "stream",
          "text": "<class 'pandas.core.frame.DataFrame'>\nRangeIndex: 9357 entries, 0 to 9356\nData columns (total 16 columns):\nDate            9357 non-null object\nTime            9357 non-null object\nCO_GT           9357 non-null float64\nPT08_S1_CO      9357 non-null int64\nNMHC_GT         9357 non-null int64\nC6H6_GT         9357 non-null float64\nPT08_S2_NMHC    9357 non-null int64\nNox_GT          9357 non-null int64\nPT08_S3_Nox     9357 non-null int64\nNO2_GT          9357 non-null int64\nPT08_S4_NO2     9357 non-null int64\nPT08_S5_O3      9357 non-null int64\nT               9357 non-null float64\nRH              9357 non-null float64\nAH              9357 non-null float64\nCO_level        9357 non-null object\ndtypes: float64(5), int64(8), object(3)\nmemory usage: 1.1+ MB\n"
        }
      ],
      "metadata": {}
    },
    {
      "cell_type": "markdown",
      "source": "I do some data preprocessing like Data Cleaning and Data Reduction. <br>\n1. Data Reduction<br>\nThe dataset have 16 columns and 9357 rows. I choose 13 columns for data mining. I'm not using date, time, and C6H6_GT attributes. You can see description about the attributes, and although maybe this dataset for timeseries, but i'm not using date and time. Whereas C6H6_GT haven't sensor measure result, since it's not relevant with another attributes that have actual and sensor measures. But, this is just my opinion.<br>\n2. Data Cleaning<br>\nThere are some missing value in this dataset, you can see there are 200 and -200 values in each column, that's missing value. This missing value can make a bad classify result because the value sometimes not relevant with range in some columns. I fill the missing value with mean or median value from each columns. But, first i check if it's a null value.",
      "execution_count": null,
      "outputs": [],
      "metadata": {}
    },
    {
      "cell_type": "code",
      "source": "#reduce columns\ndf = df.drop('Date', axis=1)\ndf = df.drop('Time', axis=1)\ndf = df.drop('C6H6_GT', axis=1)",
      "execution_count": 95,
      "outputs": [],
      "metadata": {}
    },
    {
      "cell_type": "code",
      "source": "#check null value\ndf.isnull().sum()",
      "execution_count": 96,
      "outputs": [
        {
          "data": {
            "text/plain": "CO_GT           0\nPT08_S1_CO      0\nNMHC_GT         0\nPT08_S2_NMHC    0\nNox_GT          0\nPT08_S3_Nox     0\nNO2_GT          0\nPT08_S4_NO2     0\nPT08_S5_O3      0\nT               0\nRH              0\nAH              0\nCO_level        0\ndtype: int64"
          },
          "execution_count": 96,
          "metadata": {},
          "output_type": "execute_result"
        }
      ],
      "metadata": {}
    },
    {
      "cell_type": "markdown",
      "source": "Seems like no null value in data. Let's check the missing values.",
      "execution_count": null,
      "outputs": [],
      "metadata": {}
    },
    {
      "cell_type": "code",
      "source": "df['CO_GT'].min()",
      "execution_count": 15,
      "outputs": [
        {
          "data": {
            "text/plain": "-200.0"
          },
          "execution_count": 15,
          "metadata": {},
          "output_type": "execute_result"
        }
      ],
      "metadata": {}
    },
    {
      "cell_type": "code",
      "source": "df['PT08_S1_CO'].min()",
      "execution_count": 17,
      "outputs": [
        {
          "data": {
            "text/plain": "-200"
          },
          "execution_count": 17,
          "metadata": {},
          "output_type": "execute_result"
        }
      ],
      "metadata": {}
    },
    {
      "cell_type": "code",
      "source": "df['NMHC_GT'].min()",
      "execution_count": 18,
      "outputs": [
        {
          "data": {
            "text/plain": "-200"
          },
          "execution_count": 18,
          "metadata": {},
          "output_type": "execute_result"
        }
      ],
      "metadata": {}
    },
    {
      "cell_type": "code",
      "source": "df['PT08_S2_NMHC'].min()",
      "execution_count": 19,
      "outputs": [
        {
          "data": {
            "text/plain": "-200"
          },
          "execution_count": 19,
          "metadata": {},
          "output_type": "execute_result"
        }
      ],
      "metadata": {}
    },
    {
      "cell_type": "code",
      "source": "df['Nox_GT'].min()",
      "execution_count": 20,
      "outputs": [
        {
          "data": {
            "text/plain": "-200"
          },
          "execution_count": 20,
          "metadata": {},
          "output_type": "execute_result"
        }
      ],
      "metadata": {}
    },
    {
      "cell_type": "code",
      "source": "df['PT08_S3_Nox'].min()",
      "execution_count": 21,
      "outputs": [
        {
          "data": {
            "text/plain": "-200"
          },
          "execution_count": 21,
          "metadata": {},
          "output_type": "execute_result"
        }
      ],
      "metadata": {}
    },
    {
      "cell_type": "code",
      "source": "df['NO2_GT'].min()",
      "execution_count": 22,
      "outputs": [
        {
          "data": {
            "text/plain": "-200"
          },
          "execution_count": 22,
          "metadata": {},
          "output_type": "execute_result"
        }
      ],
      "metadata": {}
    },
    {
      "cell_type": "code",
      "source": "df['PT08_S4_NO2'].min()",
      "execution_count": 23,
      "outputs": [
        {
          "data": {
            "text/plain": "-200"
          },
          "execution_count": 23,
          "metadata": {},
          "output_type": "execute_result"
        }
      ],
      "metadata": {}
    },
    {
      "cell_type": "code",
      "source": "df['PT08_S5_O3'].min()",
      "execution_count": 24,
      "outputs": [
        {
          "data": {
            "text/plain": "-200"
          },
          "execution_count": 24,
          "metadata": {},
          "output_type": "execute_result"
        }
      ],
      "metadata": {}
    },
    {
      "cell_type": "code",
      "source": "df['T'].min()",
      "execution_count": 25,
      "outputs": [
        {
          "data": {
            "text/plain": "-200.0"
          },
          "execution_count": 25,
          "metadata": {},
          "output_type": "execute_result"
        }
      ],
      "metadata": {}
    },
    {
      "cell_type": "code",
      "source": "df['RH'].min()",
      "execution_count": 26,
      "outputs": [
        {
          "data": {
            "text/plain": "-200.0"
          },
          "execution_count": 26,
          "metadata": {},
          "output_type": "execute_result"
        }
      ],
      "metadata": {}
    },
    {
      "cell_type": "code",
      "source": "df['AH'].min()",
      "execution_count": 27,
      "outputs": [
        {
          "data": {
            "text/plain": "-200.0"
          },
          "execution_count": 27,
          "metadata": {},
          "output_type": "execute_result"
        }
      ],
      "metadata": {}
    },
    {
      "cell_type": "markdown",
      "source": "I do some cross check that every attributes imposibble have minus value except T (Temperature). But, it's impossible too if the Temperature -200, because this case about Very High, High, Moderate, Low, Very Low pollution in the air. <br>\nBut first, i fill this missing value with 0 value, because if i fill with mean, the value was not representative because it's contain with -200 value.",
      "execution_count": null,
      "outputs": [],
      "metadata": {}
    },
    {
      "cell_type": "code",
      "source": "df.CO_level.unique()",
      "execution_count": 144,
      "outputs": [
        {
          "data": {
            "text/plain": "array(['Very High', 'High', 'Moderate', 'Low', 'Very low'], dtype=object)"
          },
          "execution_count": 144,
          "metadata": {},
          "output_type": "execute_result"
        }
      ],
      "metadata": {}
    },
    {
      "cell_type": "code",
      "source": "for i in df.ix[df['CO_GT']<0].index:\n    df.loc[i, 'CO_GT'] = 0\nfor i in df.ix[df['PT08_S1_CO']<0].index:\n    df.loc[i, 'PT08_S1_CO'] = 0\nfor i in df.ix[df['NMHC_GT']<0].index:\n    df.loc[i, 'NMHC_GT'] = 0\nfor i in df.ix[df['PT08_S2_NMHC']<0].index:\n    df.loc[i, 'PT08_S2_NMHC'] = 0\nfor i in df.ix[df['Nox_GT']<0].index:\n    df.loc[i, 'Nox_GT'] = 0\nfor i in df.ix[df['PT08_S3_Nox']<0].index:\n    df.loc[i, 'PT08_S3_Nox'] = 0\nfor i in df.ix[df['NO2_GT']<0].index:\n    df.loc[i, 'NO2_GT'] = 0\nfor i in df.ix[df['PT08_S4_NO2']<0].index:\n    df.loc[i, 'PT08_S4_NO2'] = 0\nfor i in df.ix[df['PT08_S5_O3']<0].index:\n    df.loc[i, 'PT08_S5_O3'] = 0\nfor i in df.ix[df['RH']<0].index:\n    df.loc[i, 'RH'] = 0\nfor i in df.ix[df['AH']<0].index:\n    df.loc[i, 'AH'] = 0\n#this case because it's possible the Temperature have minus degree,\n#so i just fill 0 that have -200 value\nfor i in df.ix[df['T']==-200].index:\n    df.loc[i, 'T'] = 0",
      "execution_count": 97,
      "outputs": [],
      "metadata": {}
    },
    {
      "cell_type": "code",
      "source": "#if you check min value has change\ndf['CO_GT'].min()",
      "execution_count": 30,
      "outputs": [
        {
          "data": {
            "text/plain": "0.0"
          },
          "execution_count": 30,
          "metadata": {},
          "output_type": "execute_result"
        }
      ],
      "metadata": {}
    },
    {
      "cell_type": "code",
      "source": "df['CO_GT'].mean()\n#1.765",
      "execution_count": 32,
      "outputs": [
        {
          "data": {
            "text/plain": "1.7655445121299898"
          },
          "execution_count": 32,
          "metadata": {},
          "output_type": "execute_result"
        }
      ],
      "metadata": {}
    },
    {
      "cell_type": "code",
      "source": "df['CO_GT'].median()\n#1.5",
      "execution_count": 33,
      "outputs": [
        {
          "data": {
            "text/plain": "1.5"
          },
          "execution_count": 33,
          "metadata": {},
          "output_type": "execute_result"
        }
      ],
      "metadata": {}
    },
    {
      "cell_type": "code",
      "source": "df['PT08_S1_CO'].mean()\n#1056.81",
      "execution_count": 34,
      "outputs": [
        {
          "data": {
            "text/plain": "1056.8130811157423"
          },
          "execution_count": 34,
          "metadata": {},
          "output_type": "execute_result"
        }
      ],
      "metadata": {}
    },
    {
      "cell_type": "code",
      "source": "df['PT08_S1_CO'].median()\n#1053.0\n",
      "execution_count": 35,
      "outputs": [
        {
          "data": {
            "text/plain": "1053.0"
          },
          "execution_count": 35,
          "metadata": {},
          "output_type": "execute_result"
        }
      ],
      "metadata": {}
    },
    {
      "cell_type": "code",
      "source": "df['NMHC_GT'].mean()\n#21.373",
      "execution_count": 36,
      "outputs": [
        {
          "data": {
            "text/plain": "21.373730896654912"
          },
          "execution_count": 36,
          "metadata": {},
          "output_type": "execute_result"
        }
      ],
      "metadata": {}
    },
    {
      "cell_type": "code",
      "source": "df['NMHC_GT'].median()\n#0",
      "execution_count": 37,
      "outputs": [
        {
          "data": {
            "text/plain": "0.0"
          },
          "execution_count": 37,
          "metadata": {},
          "output_type": "execute_result"
        }
      ],
      "metadata": {}
    },
    {
      "cell_type": "code",
      "source": "df['PT08_S2_NMHC'].mean()\n#902.41",
      "execution_count": 38,
      "outputs": [
        {
          "data": {
            "text/plain": "902.4182964625414"
          },
          "execution_count": 38,
          "metadata": {},
          "output_type": "execute_result"
        }
      ],
      "metadata": {}
    },
    {
      "cell_type": "code",
      "source": "df['PT08_S2_NMHC'].median()\n#895.0",
      "execution_count": 39,
      "outputs": [
        {
          "data": {
            "text/plain": "895.0"
          },
          "execution_count": 39,
          "metadata": {},
          "output_type": "execute_result"
        }
      ],
      "metadata": {}
    },
    {
      "cell_type": "code",
      "source": "df['Nox_GT'].mean()\n#203.649",
      "execution_count": 40,
      "outputs": [
        {
          "data": {
            "text/plain": "203.6495671689644"
          },
          "execution_count": 40,
          "metadata": {},
          "output_type": "execute_result"
        }
      ],
      "metadata": {}
    },
    {
      "cell_type": "code",
      "source": "df['Nox_GT'].median()\n#141.0",
      "execution_count": 41,
      "outputs": [
        {
          "data": {
            "text/plain": "141.0"
          },
          "execution_count": 41,
          "metadata": {},
          "output_type": "execute_result"
        }
      ],
      "metadata": {}
    },
    {
      "cell_type": "code",
      "source": "df['PT08_S3_Nox'].mean()\n#802.813",
      "execution_count": 42,
      "outputs": [
        {
          "data": {
            "text/plain": "802.8131879876029"
          },
          "execution_count": 42,
          "metadata": {},
          "output_type": "execute_result"
        }
      ],
      "metadata": {}
    },
    {
      "cell_type": "code",
      "source": "df['PT08_S3_Nox'].median()\n#794.0",
      "execution_count": 43,
      "outputs": [
        {
          "data": {
            "text/plain": "794.0"
          },
          "execution_count": 43,
          "metadata": {},
          "output_type": "execute_result"
        }
      ],
      "metadata": {}
    },
    {
      "cell_type": "code",
      "source": "df['NO2_GT'].mean()\n#93.245",
      "execution_count": 44,
      "outputs": [
        {
          "data": {
            "text/plain": "93.24559153574863"
          },
          "execution_count": 44,
          "metadata": {},
          "output_type": "execute_result"
        }
      ],
      "metadata": {}
    },
    {
      "cell_type": "code",
      "source": "df['NO2_GT'].median()\n#96.0",
      "execution_count": 45,
      "outputs": [
        {
          "data": {
            "text/plain": "96.0"
          },
          "execution_count": 45,
          "metadata": {},
          "output_type": "execute_result"
        }
      ],
      "metadata": {}
    },
    {
      "cell_type": "code",
      "source": "df['PT08_S4_NO2'].mean()\n#1399.302",
      "execution_count": 46,
      "outputs": [
        {
          "data": {
            "text/plain": "1399.3026611093298"
          },
          "execution_count": 46,
          "metadata": {},
          "output_type": "execute_result"
        }
      ],
      "metadata": {}
    },
    {
      "cell_type": "code",
      "source": "df['PT08_S4_NO2'].median()\n#1446.0",
      "execution_count": 47,
      "outputs": [
        {
          "data": {
            "text/plain": "1446.0"
          },
          "execution_count": 47,
          "metadata": {},
          "output_type": "execute_result"
        }
      ],
      "metadata": {}
    },
    {
      "cell_type": "code",
      "source": "df['PT08_S5_O3'].mean()\n#982.895",
      "execution_count": 48,
      "outputs": [
        {
          "data": {
            "text/plain": "982.8950518328525"
          },
          "execution_count": 48,
          "metadata": {},
          "output_type": "execute_result"
        }
      ],
      "metadata": {}
    },
    {
      "cell_type": "code",
      "source": "df['PT08_S5_O3'].median()\n#942.0",
      "execution_count": 49,
      "outputs": [
        {
          "data": {
            "text/plain": "942.0"
          },
          "execution_count": 49,
          "metadata": {},
          "output_type": "execute_result"
        }
      ],
      "metadata": {}
    },
    {
      "cell_type": "code",
      "source": "df['T'].mean()\n#17.601",
      "execution_count": 50,
      "outputs": [
        {
          "data": {
            "text/plain": "17.601325211071927"
          },
          "execution_count": 50,
          "metadata": {},
          "output_type": "execute_result"
        }
      ],
      "metadata": {}
    },
    {
      "cell_type": "code",
      "source": "df['T'].median()\n#17.2",
      "execution_count": 51,
      "outputs": [
        {
          "data": {
            "text/plain": "17.2"
          },
          "execution_count": 51,
          "metadata": {},
          "output_type": "execute_result"
        }
      ],
      "metadata": {}
    },
    {
      "cell_type": "code",
      "source": "df['RH'].mean()\n#47.308",
      "execution_count": 52,
      "outputs": [
        {
          "data": {
            "text/plain": "47.308400128246056"
          },
          "execution_count": 52,
          "metadata": {},
          "output_type": "execute_result"
        }
      ],
      "metadata": {}
    },
    {
      "cell_type": "code",
      "source": "df['RH'].median()\n#48.6",
      "execution_count": 53,
      "outputs": [
        {
          "data": {
            "text/plain": "48.6"
          },
          "execution_count": 53,
          "metadata": {},
          "output_type": "execute_result"
        }
      ],
      "metadata": {}
    },
    {
      "cell_type": "code",
      "source": "df['AH'].mean()\n#0.985",
      "execution_count": 54,
      "outputs": [
        {
          "data": {
            "text/plain": "0.9854165544512143"
          },
          "execution_count": 54,
          "metadata": {},
          "output_type": "execute_result"
        }
      ],
      "metadata": {}
    },
    {
      "cell_type": "code",
      "source": "df['AH'].median()\n#0.9768",
      "execution_count": 55,
      "outputs": [
        {
          "data": {
            "text/plain": "0.9768"
          },
          "execution_count": 55,
          "metadata": {},
          "output_type": "execute_result"
        }
      ],
      "metadata": {}
    },
    {
      "cell_type": "markdown",
      "source": "You can see that NMHC_GT median value is 0, that's make posibble if NMHC_GT value contains many 0 values. so that's why i fill the missing value with mean value. But, in some cases like PT08_S4_NO2 and PT08_S5_O3 that have difference quite large between mean and median, possibility because both of this column have a lot of pretty high value. So, i choose to fill both of this attributes with median value.",
      "execution_count": null,
      "outputs": [],
      "metadata": {}
    },
    {
      "cell_type": "code",
      "source": "for i in df.ix[df['CO_GT']==0].index:\n    df.loc[i, 'CO_GT'] = df['CO_GT'].mean()\nfor i in df.ix[df['PT08_S1_CO']==0].index:\n    df.loc[i, 'PT08_S1_CO'] = df['PT08_S1_CO'].mean()\nfor i in df.ix[df['NMHC_GT']==0].index:\n    df.loc[i, 'NMHC_GT'] = df['NMHC_GT'].mean()\nfor i in df.ix[df['PT08_S2_NMHC']==0].index:\n    df.loc[i, 'PT08_S2_NMHC'] = df['PT08_S2_NMHC'].mean()\nfor i in df.ix[df['Nox_GT']==0].index:\n    df.loc[i, 'Nox_GT'] = df['Nox_GT'].median()\nfor i in df.ix[df['PT08_S3_Nox']==0].index:\n    df.loc[i, 'PT08_S3_Nox'] = df['PT08_S3_Nox'].mean()\nfor i in df.ix[df['NO2_GT']==0].index:\n    df.loc[i, 'NO2_GT'] = df['NO2_GT'].mean()\nfor i in df.ix[df['PT08_S4_NO2']==0].index:\n    df.loc[i, 'PT08_S4_NO2'] = df['PT08_S4_NO2'].median()\nfor i in df.ix[df['PT08_S5_O3']==0].index:\n    df.loc[i, 'PT08_S5_O3'] = df['PT08_S5_O3'].median()\nfor i in df.ix[df['T']==0].index:\n    df.loc[i, 'T'] = df['T'].mean()\nfor i in df.ix[df['RH']==0].index:\n    df.loc[i, 'RH'] = df['RH'].mean()\nfor i in df.ix[df['AH']==0].index:\n    df.loc[i, 'AH'] = df['AH'].mean()",
      "execution_count": 135,
      "outputs": [],
      "metadata": {}
    },
    {
      "cell_type": "code",
      "source": "#and if you check minimum value has change\ndf['CO_GT'].min()",
      "execution_count": 136,
      "outputs": [
        {
          "data": {
            "text/plain": "0.10000000000000001"
          },
          "execution_count": 136,
          "metadata": {},
          "output_type": "execute_result"
        }
      ],
      "metadata": {}
    },
    {
      "cell_type": "code",
      "source": "X = df.drop('CO_level', axis=1)\ny = df.loc[:,'CO_level'].values",
      "execution_count": 137,
      "outputs": [],
      "metadata": {}
    },
    {
      "cell_type": "code",
      "source": "X",
      "execution_count": 145,
      "outputs": [
        {
          "data": {
            "text/html": "<div>\n<table border=\"1\" class=\"dataframe\">\n  <thead>\n    <tr style=\"text-align: right;\">\n      <th></th>\n      <th>CO_GT</th>\n      <th>PT08_S1_CO</th>\n      <th>NMHC_GT</th>\n      <th>PT08_S2_NMHC</th>\n      <th>Nox_GT</th>\n      <th>PT08_S3_Nox</th>\n      <th>NO2_GT</th>\n      <th>PT08_S4_NO2</th>\n      <th>PT08_S5_O3</th>\n      <th>T</th>\n      <th>RH</th>\n      <th>AH</th>\n    </tr>\n  </thead>\n  <tbody>\n    <tr>\n      <th>0</th>\n      <td>11.900000</td>\n      <td>2008.000000</td>\n      <td>21.373731</td>\n      <td>1980.000000</td>\n      <td>1389.0</td>\n      <td>325.000000</td>\n      <td>220.0</td>\n      <td>2562.0</td>\n      <td>2342.0</td>\n      <td>12.400000</td>\n      <td>74.700000</td>\n      <td>1.074100</td>\n    </tr>\n    <tr>\n      <th>1</th>\n      <td>11.500000</td>\n      <td>1918.000000</td>\n      <td>21.376015</td>\n      <td>1958.000000</td>\n      <td>1358.0</td>\n      <td>335.000000</td>\n      <td>190.0</td>\n      <td>2477.0</td>\n      <td>2237.0</td>\n      <td>11.500000</td>\n      <td>76.200000</td>\n      <td>1.032400</td>\n    </tr>\n    <tr>\n      <th>2</th>\n      <td>10.200000</td>\n      <td>1802.000000</td>\n      <td>21.378300</td>\n      <td>1924.000000</td>\n      <td>748.0</td>\n      <td>356.000000</td>\n      <td>192.0</td>\n      <td>2235.0</td>\n      <td>2452.0</td>\n      <td>13.700000</td>\n      <td>52.800000</td>\n      <td>0.824400</td>\n    </tr>\n    <tr>\n      <th>3</th>\n      <td>10.200000</td>\n      <td>1982.000000</td>\n      <td>21.380584</td>\n      <td>1959.000000</td>\n      <td>1369.0</td>\n      <td>322.000000</td>\n      <td>227.0</td>\n      <td>2536.0</td>\n      <td>2386.0</td>\n      <td>13.200000</td>\n      <td>72.600000</td>\n      <td>1.093600</td>\n    </tr>\n    <tr>\n      <th>4</th>\n      <td>10.100000</td>\n      <td>1956.000000</td>\n      <td>21.382869</td>\n      <td>1877.000000</td>\n      <td>1389.0</td>\n      <td>347.000000</td>\n      <td>255.0</td>\n      <td>2338.0</td>\n      <td>2465.0</td>\n      <td>15.500000</td>\n      <td>62.800000</td>\n      <td>1.097900</td>\n    </tr>\n    <tr>\n      <th>5</th>\n      <td>9.900000</td>\n      <td>1881.000000</td>\n      <td>21.385155</td>\n      <td>1983.000000</td>\n      <td>1479.0</td>\n      <td>334.000000</td>\n      <td>269.0</td>\n      <td>2271.0</td>\n      <td>2523.0</td>\n      <td>12.600000</td>\n      <td>55.900000</td>\n      <td>0.814200</td>\n    </tr>\n    <tr>\n      <th>6</th>\n      <td>9.500000</td>\n      <td>1908.000000</td>\n      <td>21.387440</td>\n      <td>2007.000000</td>\n      <td>952.0</td>\n      <td>325.000000</td>\n      <td>180.0</td>\n      <td>2775.0</td>\n      <td>2372.0</td>\n      <td>22.500000</td>\n      <td>61.500000</td>\n      <td>1.657900</td>\n    </tr>\n    <tr>\n      <th>7</th>\n      <td>9.400000</td>\n      <td>1816.000000</td>\n      <td>21.389726</td>\n      <td>1851.000000</td>\n      <td>1184.0</td>\n      <td>341.000000</td>\n      <td>171.0</td>\n      <td>2405.0</td>\n      <td>2069.0</td>\n      <td>15.400000</td>\n      <td>73.000000</td>\n      <td>1.268800</td>\n    </tr>\n    <tr>\n      <th>8</th>\n      <td>9.300000</td>\n      <td>1056.813081</td>\n      <td>21.392012</td>\n      <td>902.418296</td>\n      <td>1310.0</td>\n      <td>802.813188</td>\n      <td>248.0</td>\n      <td>1446.0</td>\n      <td>942.0</td>\n      <td>17.601325</td>\n      <td>47.308400</td>\n      <td>0.985417</td>\n    </tr>\n    <tr>\n      <th>9</th>\n      <td>9.200000</td>\n      <td>1778.000000</td>\n      <td>21.394298</td>\n      <td>1935.000000</td>\n      <td>859.0</td>\n      <td>349.000000</td>\n      <td>119.0</td>\n      <td>2643.0</td>\n      <td>1927.0</td>\n      <td>20.900000</td>\n      <td>67.500000</td>\n      <td>1.653900</td>\n    </tr>\n    <tr>\n      <th>10</th>\n      <td>9.100000</td>\n      <td>1056.926025</td>\n      <td>21.396584</td>\n      <td>902.514740</td>\n      <td>1253.0</td>\n      <td>802.898986</td>\n      <td>219.0</td>\n      <td>1446.0</td>\n      <td>942.0</td>\n      <td>17.603206</td>\n      <td>47.313456</td>\n      <td>0.985522</td>\n    </tr>\n    <tr>\n      <th>11</th>\n      <td>9.100000</td>\n      <td>1701.000000</td>\n      <td>21.398871</td>\n      <td>1692.000000</td>\n      <td>1220.0</td>\n      <td>402.000000</td>\n      <td>252.0</td>\n      <td>1832.0</td>\n      <td>2415.0</td>\n      <td>6.200000</td>\n      <td>56.900000</td>\n      <td>0.541900</td>\n    </tr>\n    <tr>\n      <th>12</th>\n      <td>8.700000</td>\n      <td>1882.000000</td>\n      <td>21.401158</td>\n      <td>1920.000000</td>\n      <td>1014.0</td>\n      <td>328.000000</td>\n      <td>171.0</td>\n      <td>2609.0</td>\n      <td>2204.0</td>\n      <td>23.100000</td>\n      <td>61.100000</td>\n      <td>1.708200</td>\n    </tr>\n    <tr>\n      <th>13</th>\n      <td>8.700000</td>\n      <td>1704.000000</td>\n      <td>21.403445</td>\n      <td>1689.000000</td>\n      <td>1070.0</td>\n      <td>402.000000</td>\n      <td>242.0</td>\n      <td>1820.0</td>\n      <td>2480.0</td>\n      <td>7.100000</td>\n      <td>50.300000</td>\n      <td>0.510000</td>\n    </tr>\n    <tr>\n      <th>14</th>\n      <td>8.700000</td>\n      <td>1615.000000</td>\n      <td>21.405733</td>\n      <td>1712.000000</td>\n      <td>1230.0</td>\n      <td>384.000000</td>\n      <td>225.0</td>\n      <td>1811.0</td>\n      <td>2312.0</td>\n      <td>7.800000</td>\n      <td>48.100000</td>\n      <td>0.511500</td>\n    </tr>\n    <tr>\n      <th>15</th>\n      <td>8.600000</td>\n      <td>1510.000000</td>\n      <td>21.408020</td>\n      <td>1501.000000</td>\n      <td>881.0</td>\n      <td>456.000000</td>\n      <td>185.0</td>\n      <td>1901.0</td>\n      <td>1855.0</td>\n      <td>15.200000</td>\n      <td>57.500000</td>\n      <td>0.982900</td>\n    </tr>\n    <tr>\n      <th>16</th>\n      <td>8.600000</td>\n      <td>1057.038980</td>\n      <td>21.410308</td>\n      <td>902.611193</td>\n      <td>1235.0</td>\n      <td>802.984793</td>\n      <td>227.0</td>\n      <td>1446.0</td>\n      <td>942.0</td>\n      <td>17.605088</td>\n      <td>47.318513</td>\n      <td>0.985627</td>\n    </tr>\n    <tr>\n      <th>17</th>\n      <td>8.600000</td>\n      <td>1057.151948</td>\n      <td>21.412596</td>\n      <td>902.707657</td>\n      <td>1237.0</td>\n      <td>803.070610</td>\n      <td>203.0</td>\n      <td>1446.0</td>\n      <td>942.0</td>\n      <td>17.606969</td>\n      <td>47.323570</td>\n      <td>0.985733</td>\n    </tr>\n    <tr>\n      <th>18</th>\n      <td>8.600000</td>\n      <td>1683.000000</td>\n      <td>21.414885</td>\n      <td>1831.000000</td>\n      <td>1216.0</td>\n      <td>374.000000</td>\n      <td>272.0</td>\n      <td>1964.0</td>\n      <td>2331.0</td>\n      <td>9.200000</td>\n      <td>39.300000</td>\n      <td>0.457300</td>\n    </tr>\n    <tr>\n      <th>19</th>\n      <td>8.500000</td>\n      <td>1630.000000</td>\n      <td>21.417173</td>\n      <td>1622.000000</td>\n      <td>1089.0</td>\n      <td>421.000000</td>\n      <td>247.0</td>\n      <td>1757.0</td>\n      <td>2238.0</td>\n      <td>8.000000</td>\n      <td>45.900000</td>\n      <td>0.493600</td>\n    </tr>\n    <tr>\n      <th>20</th>\n      <td>8.400000</td>\n      <td>1808.000000</td>\n      <td>21.419462</td>\n      <td>1771.000000</td>\n      <td>686.0</td>\n      <td>373.000000</td>\n      <td>163.0</td>\n      <td>2486.0</td>\n      <td>2235.0</td>\n      <td>24.300000</td>\n      <td>54.300000</td>\n      <td>1.627600</td>\n    </tr>\n    <tr>\n      <th>21</th>\n      <td>8.400000</td>\n      <td>1824.000000</td>\n      <td>21.421751</td>\n      <td>1862.000000</td>\n      <td>860.0</td>\n      <td>340.000000</td>\n      <td>149.0</td>\n      <td>2567.0</td>\n      <td>2106.0</td>\n      <td>21.000000</td>\n      <td>64.900000</td>\n      <td>1.598700</td>\n    </tr>\n    <tr>\n      <th>22</th>\n      <td>8.400000</td>\n      <td>1822.000000</td>\n      <td>21.424041</td>\n      <td>1890.000000</td>\n      <td>918.0</td>\n      <td>347.000000</td>\n      <td>187.0</td>\n      <td>2641.0</td>\n      <td>2161.0</td>\n      <td>23.200000</td>\n      <td>58.700000</td>\n      <td>1.651000</td>\n    </tr>\n    <tr>\n      <th>23</th>\n      <td>8.400000</td>\n      <td>1669.000000</td>\n      <td>21.426330</td>\n      <td>1686.000000</td>\n      <td>1074.0</td>\n      <td>384.000000</td>\n      <td>181.0</td>\n      <td>2066.0</td>\n      <td>1961.0</td>\n      <td>10.100000</td>\n      <td>79.300000</td>\n      <td>0.979500</td>\n    </tr>\n    <tr>\n      <th>24</th>\n      <td>8.400000</td>\n      <td>1057.264928</td>\n      <td>21.428620</td>\n      <td>902.804131</td>\n      <td>1028.0</td>\n      <td>803.156436</td>\n      <td>276.0</td>\n      <td>1446.0</td>\n      <td>942.0</td>\n      <td>17.608851</td>\n      <td>47.328627</td>\n      <td>0.985838</td>\n    </tr>\n    <tr>\n      <th>25</th>\n      <td>8.300000</td>\n      <td>1623.000000</td>\n      <td>21.430910</td>\n      <td>1547.000000</td>\n      <td>832.0</td>\n      <td>414.000000</td>\n      <td>188.0</td>\n      <td>2040.0</td>\n      <td>1883.0</td>\n      <td>16.200000</td>\n      <td>62.600000</td>\n      <td>1.145500</td>\n    </tr>\n    <tr>\n      <th>26</th>\n      <td>8.300000</td>\n      <td>1693.000000</td>\n      <td>21.433201</td>\n      <td>1590.000000</td>\n      <td>1189.0</td>\n      <td>412.000000</td>\n      <td>178.0</td>\n      <td>1949.0</td>\n      <td>2025.0</td>\n      <td>10.400000</td>\n      <td>79.300000</td>\n      <td>0.999300</td>\n    </tr>\n    <tr>\n      <th>27</th>\n      <td>8.100000</td>\n      <td>1961.000000</td>\n      <td>618.000000</td>\n      <td>1701.000000</td>\n      <td>478.0</td>\n      <td>537.000000</td>\n      <td>149.0</td>\n      <td>2665.0</td>\n      <td>2184.0</td>\n      <td>14.800000</td>\n      <td>54.300000</td>\n      <td>0.907600</td>\n    </tr>\n    <tr>\n      <th>28</th>\n      <td>8.100000</td>\n      <td>1870.000000</td>\n      <td>21.435491</td>\n      <td>1871.000000</td>\n      <td>1001.0</td>\n      <td>351.000000</td>\n      <td>180.0</td>\n      <td>2483.0</td>\n      <td>2165.0</td>\n      <td>23.000000</td>\n      <td>54.200000</td>\n      <td>1.506600</td>\n    </tr>\n    <tr>\n      <th>29</th>\n      <td>8.100000</td>\n      <td>1759.000000</td>\n      <td>21.437782</td>\n      <td>1588.000000</td>\n      <td>1155.0</td>\n      <td>437.000000</td>\n      <td>205.0</td>\n      <td>1971.0</td>\n      <td>2234.0</td>\n      <td>14.600000</td>\n      <td>67.700000</td>\n      <td>1.116400</td>\n    </tr>\n    <tr>\n      <th>...</th>\n      <td>...</td>\n      <td>...</td>\n      <td>...</td>\n      <td>...</td>\n      <td>...</td>\n      <td>...</td>\n      <td>...</td>\n      <td>...</td>\n      <td>...</td>\n      <td>...</td>\n      <td>...</td>\n      <td>...</td>\n    </tr>\n    <tr>\n      <th>9327</th>\n      <td>2.106671</td>\n      <td>898.000000</td>\n      <td>52.521760</td>\n      <td>624.000000</td>\n      <td>129.0</td>\n      <td>987.000000</td>\n      <td>108.0</td>\n      <td>825.0</td>\n      <td>871.0</td>\n      <td>0.800000</td>\n      <td>53.800000</td>\n      <td>0.354200</td>\n    </tr>\n    <tr>\n      <th>9328</th>\n      <td>2.106896</td>\n      <td>1098.849801</td>\n      <td>52.527373</td>\n      <td>938.313674</td>\n      <td>88.0</td>\n      <td>834.746586</td>\n      <td>83.0</td>\n      <td>1446.0</td>\n      <td>942.0</td>\n      <td>18.303407</td>\n      <td>49.190180</td>\n      <td>1.024613</td>\n    </tr>\n    <tr>\n      <th>9329</th>\n      <td>2.107121</td>\n      <td>1154.000000</td>\n      <td>52.532987</td>\n      <td>788.000000</td>\n      <td>223.0</td>\n      <td>709.000000</td>\n      <td>146.0</td>\n      <td>1065.0</td>\n      <td>1390.0</td>\n      <td>5.100000</td>\n      <td>65.900000</td>\n      <td>0.582700</td>\n    </tr>\n    <tr>\n      <th>9330</th>\n      <td>2.107346</td>\n      <td>802.000000</td>\n      <td>52.538601</td>\n      <td>440.000000</td>\n      <td>31.0</td>\n      <td>1413.000000</td>\n      <td>30.0</td>\n      <td>738.0</td>\n      <td>312.0</td>\n      <td>6.900000</td>\n      <td>39.100000</td>\n      <td>0.390100</td>\n    </tr>\n    <tr>\n      <th>9331</th>\n      <td>2.107572</td>\n      <td>874.000000</td>\n      <td>52.544216</td>\n      <td>472.000000</td>\n      <td>49.0</td>\n      <td>1179.000000</td>\n      <td>45.0</td>\n      <td>803.0</td>\n      <td>382.0</td>\n      <td>6.400000</td>\n      <td>49.800000</td>\n      <td>0.481400</td>\n    </tr>\n    <tr>\n      <th>9332</th>\n      <td>2.107797</td>\n      <td>879.000000</td>\n      <td>52.549832</td>\n      <td>447.000000</td>\n      <td>38.0</td>\n      <td>1317.000000</td>\n      <td>36.0</td>\n      <td>910.0</td>\n      <td>348.0</td>\n      <td>4.000000</td>\n      <td>81.500000</td>\n      <td>0.671200</td>\n    </tr>\n    <tr>\n      <th>9333</th>\n      <td>2.108022</td>\n      <td>884.000000</td>\n      <td>52.555448</td>\n      <td>528.000000</td>\n      <td>96.0</td>\n      <td>1148.000000</td>\n      <td>86.0</td>\n      <td>960.0</td>\n      <td>619.0</td>\n      <td>2.900000</td>\n      <td>85.300000</td>\n      <td>0.650300</td>\n    </tr>\n    <tr>\n      <th>9334</th>\n      <td>2.108247</td>\n      <td>980.000000</td>\n      <td>52.561064</td>\n      <td>744.000000</td>\n      <td>174.0</td>\n      <td>840.000000</td>\n      <td>119.0</td>\n      <td>979.0</td>\n      <td>970.0</td>\n      <td>2.800000</td>\n      <td>70.900000</td>\n      <td>0.538300</td>\n    </tr>\n    <tr>\n      <th>9335</th>\n      <td>2.108473</td>\n      <td>790.000000</td>\n      <td>52.566682</td>\n      <td>471.000000</td>\n      <td>81.0</td>\n      <td>1302.000000</td>\n      <td>75.0</td>\n      <td>669.0</td>\n      <td>532.0</td>\n      <td>-1.400000</td>\n      <td>44.900000</td>\n      <td>0.253600</td>\n    </tr>\n    <tr>\n      <th>9336</th>\n      <td>2.108698</td>\n      <td>1009.000000</td>\n      <td>52.572300</td>\n      <td>710.000000</td>\n      <td>191.0</td>\n      <td>819.000000</td>\n      <td>136.0</td>\n      <td>974.0</td>\n      <td>1011.0</td>\n      <td>4.400000</td>\n      <td>63.900000</td>\n      <td>0.538500</td>\n    </tr>\n    <tr>\n      <th>9337</th>\n      <td>2.108923</td>\n      <td>872.000000</td>\n      <td>52.577918</td>\n      <td>558.000000</td>\n      <td>114.0</td>\n      <td>1054.000000</td>\n      <td>101.0</td>\n      <td>807.0</td>\n      <td>853.0</td>\n      <td>0.500000</td>\n      <td>59.400000</td>\n      <td>0.384100</td>\n    </tr>\n    <tr>\n      <th>9338</th>\n      <td>2.109149</td>\n      <td>942.000000</td>\n      <td>52.583537</td>\n      <td>665.000000</td>\n      <td>134.0</td>\n      <td>923.000000</td>\n      <td>91.0</td>\n      <td>912.0</td>\n      <td>956.0</td>\n      <td>4.400000</td>\n      <td>56.400000</td>\n      <td>0.476100</td>\n    </tr>\n    <tr>\n      <th>9339</th>\n      <td>2.109374</td>\n      <td>1015.000000</td>\n      <td>52.589157</td>\n      <td>608.000000</td>\n      <td>113.0</td>\n      <td>873.000000</td>\n      <td>85.0</td>\n      <td>1027.0</td>\n      <td>655.0</td>\n      <td>10.300000</td>\n      <td>59.400000</td>\n      <td>0.745900</td>\n    </tr>\n    <tr>\n      <th>9340</th>\n      <td>2.109600</td>\n      <td>979.000000</td>\n      <td>52.594777</td>\n      <td>547.000000</td>\n      <td>73.0</td>\n      <td>952.000000</td>\n      <td>55.0</td>\n      <td>1039.0</td>\n      <td>470.0</td>\n      <td>9.800000</td>\n      <td>68.900000</td>\n      <td>0.832900</td>\n    </tr>\n    <tr>\n      <th>9341</th>\n      <td>2.109825</td>\n      <td>972.000000</td>\n      <td>52.600398</td>\n      <td>542.000000</td>\n      <td>103.0</td>\n      <td>1029.000000</td>\n      <td>65.0</td>\n      <td>1056.0</td>\n      <td>443.0</td>\n      <td>9.200000</td>\n      <td>75.300000</td>\n      <td>0.876400</td>\n    </tr>\n    <tr>\n      <th>9342</th>\n      <td>2.110051</td>\n      <td>992.000000</td>\n      <td>52.606020</td>\n      <td>565.000000</td>\n      <td>121.0</td>\n      <td>912.000000</td>\n      <td>84.0</td>\n      <td>1074.0</td>\n      <td>547.0</td>\n      <td>9.400000</td>\n      <td>73.100000</td>\n      <td>0.862100</td>\n    </tr>\n    <tr>\n      <th>9343</th>\n      <td>2.110276</td>\n      <td>940.000000</td>\n      <td>52.611642</td>\n      <td>583.000000</td>\n      <td>93.0</td>\n      <td>942.000000</td>\n      <td>69.0</td>\n      <td>991.0</td>\n      <td>416.0</td>\n      <td>12.700000</td>\n      <td>51.800000</td>\n      <td>0.757400</td>\n    </tr>\n    <tr>\n      <th>9344</th>\n      <td>2.110502</td>\n      <td>963.000000</td>\n      <td>52.617264</td>\n      <td>617.000000</td>\n      <td>85.0</td>\n      <td>902.000000</td>\n      <td>63.0</td>\n      <td>1006.0</td>\n      <td>398.0</td>\n      <td>13.200000</td>\n      <td>49.700000</td>\n      <td>0.750300</td>\n    </tr>\n    <tr>\n      <th>9345</th>\n      <td>2.110727</td>\n      <td>971.000000</td>\n      <td>52.622888</td>\n      <td>585.000000</td>\n      <td>79.0</td>\n      <td>928.000000</td>\n      <td>61.0</td>\n      <td>1004.0</td>\n      <td>394.0</td>\n      <td>12.300000</td>\n      <td>55.900000</td>\n      <td>0.796600</td>\n    </tr>\n    <tr>\n      <th>9346</th>\n      <td>2.110953</td>\n      <td>887.000000</td>\n      <td>52.628512</td>\n      <td>488.000000</td>\n      <td>55.0</td>\n      <td>1184.000000</td>\n      <td>42.0</td>\n      <td>908.0</td>\n      <td>312.0</td>\n      <td>13.300000</td>\n      <td>50.100000</td>\n      <td>0.762400</td>\n    </tr>\n    <tr>\n      <th>9347</th>\n      <td>2.111178</td>\n      <td>944.000000</td>\n      <td>52.634136</td>\n      <td>551.000000</td>\n      <td>98.0</td>\n      <td>1063.000000</td>\n      <td>68.0</td>\n      <td>985.0</td>\n      <td>381.0</td>\n      <td>12.300000</td>\n      <td>51.800000</td>\n      <td>0.738400</td>\n    </tr>\n    <tr>\n      <th>9348</th>\n      <td>2.111404</td>\n      <td>970.000000</td>\n      <td>52.639761</td>\n      <td>592.000000</td>\n      <td>190.0</td>\n      <td>909.000000</td>\n      <td>120.0</td>\n      <td>1018.0</td>\n      <td>509.0</td>\n      <td>12.900000</td>\n      <td>50.400000</td>\n      <td>0.744800</td>\n    </tr>\n    <tr>\n      <th>9349</th>\n      <td>2.111630</td>\n      <td>1036.000000</td>\n      <td>52.645387</td>\n      <td>636.000000</td>\n      <td>122.0</td>\n      <td>845.000000</td>\n      <td>90.0</td>\n      <td>1084.0</td>\n      <td>976.0</td>\n      <td>8.900000</td>\n      <td>71.900000</td>\n      <td>0.820200</td>\n    </tr>\n    <tr>\n      <th>9350</th>\n      <td>2.111855</td>\n      <td>959.000000</td>\n      <td>52.651013</td>\n      <td>578.000000</td>\n      <td>100.0</td>\n      <td>909.000000</td>\n      <td>81.0</td>\n      <td>1016.0</td>\n      <td>822.0</td>\n      <td>10.100000</td>\n      <td>61.900000</td>\n      <td>0.763100</td>\n    </tr>\n    <tr>\n      <th>9351</th>\n      <td>2.112081</td>\n      <td>993.000000</td>\n      <td>52.656640</td>\n      <td>640.000000</td>\n      <td>85.0</td>\n      <td>848.000000</td>\n      <td>66.0</td>\n      <td>1110.0</td>\n      <td>548.0</td>\n      <td>13.000000</td>\n      <td>65.300000</td>\n      <td>0.970400</td>\n    </tr>\n    <tr>\n      <th>9352</th>\n      <td>2.112307</td>\n      <td>993.000000</td>\n      <td>52.662268</td>\n      <td>604.000000</td>\n      <td>85.0</td>\n      <td>848.000000</td>\n      <td>65.0</td>\n      <td>1160.0</td>\n      <td>762.0</td>\n      <td>14.500000</td>\n      <td>66.400000</td>\n      <td>1.091900</td>\n    </tr>\n    <tr>\n      <th>9353</th>\n      <td>2.112532</td>\n      <td>1122.000000</td>\n      <td>52.667896</td>\n      <td>811.000000</td>\n      <td>181.0</td>\n      <td>641.000000</td>\n      <td>92.0</td>\n      <td>1336.0</td>\n      <td>1122.0</td>\n      <td>16.200000</td>\n      <td>71.200000</td>\n      <td>1.301300</td>\n    </tr>\n    <tr>\n      <th>9354</th>\n      <td>2.112758</td>\n      <td>883.000000</td>\n      <td>52.673524</td>\n      <td>530.000000</td>\n      <td>63.0</td>\n      <td>997.000000</td>\n      <td>46.0</td>\n      <td>1102.0</td>\n      <td>617.0</td>\n      <td>13.700000</td>\n      <td>68.200000</td>\n      <td>1.061100</td>\n    </tr>\n    <tr>\n      <th>9355</th>\n      <td>2.112984</td>\n      <td>818.000000</td>\n      <td>52.679154</td>\n      <td>473.000000</td>\n      <td>47.0</td>\n      <td>1257.000000</td>\n      <td>41.0</td>\n      <td>898.0</td>\n      <td>323.0</td>\n      <td>13.700000</td>\n      <td>48.800000</td>\n      <td>0.760600</td>\n    </tr>\n    <tr>\n      <th>9356</th>\n      <td>2.113210</td>\n      <td>864.000000</td>\n      <td>52.684784</td>\n      <td>478.000000</td>\n      <td>52.0</td>\n      <td>1116.000000</td>\n      <td>43.0</td>\n      <td>958.0</td>\n      <td>489.0</td>\n      <td>11.800000</td>\n      <td>56.000000</td>\n      <td>0.774300</td>\n    </tr>\n  </tbody>\n</table>\n<p>9357 rows × 12 columns</p>\n</div>",
            "text/plain": "          CO_GT   PT08_S1_CO     NMHC_GT  PT08_S2_NMHC  Nox_GT  PT08_S3_Nox  \\\n0     11.900000  2008.000000   21.373731   1980.000000  1389.0   325.000000   \n1     11.500000  1918.000000   21.376015   1958.000000  1358.0   335.000000   \n2     10.200000  1802.000000   21.378300   1924.000000   748.0   356.000000   \n3     10.200000  1982.000000   21.380584   1959.000000  1369.0   322.000000   \n4     10.100000  1956.000000   21.382869   1877.000000  1389.0   347.000000   \n5      9.900000  1881.000000   21.385155   1983.000000  1479.0   334.000000   \n6      9.500000  1908.000000   21.387440   2007.000000   952.0   325.000000   \n7      9.400000  1816.000000   21.389726   1851.000000  1184.0   341.000000   \n8      9.300000  1056.813081   21.392012    902.418296  1310.0   802.813188   \n9      9.200000  1778.000000   21.394298   1935.000000   859.0   349.000000   \n10     9.100000  1056.926025   21.396584    902.514740  1253.0   802.898986   \n11     9.100000  1701.000000   21.398871   1692.000000  1220.0   402.000000   \n12     8.700000  1882.000000   21.401158   1920.000000  1014.0   328.000000   \n13     8.700000  1704.000000   21.403445   1689.000000  1070.0   402.000000   \n14     8.700000  1615.000000   21.405733   1712.000000  1230.0   384.000000   \n15     8.600000  1510.000000   21.408020   1501.000000   881.0   456.000000   \n16     8.600000  1057.038980   21.410308    902.611193  1235.0   802.984793   \n17     8.600000  1057.151948   21.412596    902.707657  1237.0   803.070610   \n18     8.600000  1683.000000   21.414885   1831.000000  1216.0   374.000000   \n19     8.500000  1630.000000   21.417173   1622.000000  1089.0   421.000000   \n20     8.400000  1808.000000   21.419462   1771.000000   686.0   373.000000   \n21     8.400000  1824.000000   21.421751   1862.000000   860.0   340.000000   \n22     8.400000  1822.000000   21.424041   1890.000000   918.0   347.000000   \n23     8.400000  1669.000000   21.426330   1686.000000  1074.0   384.000000   \n24     8.400000  1057.264928   21.428620    902.804131  1028.0   803.156436   \n25     8.300000  1623.000000   21.430910   1547.000000   832.0   414.000000   \n26     8.300000  1693.000000   21.433201   1590.000000  1189.0   412.000000   \n27     8.100000  1961.000000  618.000000   1701.000000   478.0   537.000000   \n28     8.100000  1870.000000   21.435491   1871.000000  1001.0   351.000000   \n29     8.100000  1759.000000   21.437782   1588.000000  1155.0   437.000000   \n...         ...          ...         ...           ...     ...          ...   \n9327   2.106671   898.000000   52.521760    624.000000   129.0   987.000000   \n9328   2.106896  1098.849801   52.527373    938.313674    88.0   834.746586   \n9329   2.107121  1154.000000   52.532987    788.000000   223.0   709.000000   \n9330   2.107346   802.000000   52.538601    440.000000    31.0  1413.000000   \n9331   2.107572   874.000000   52.544216    472.000000    49.0  1179.000000   \n9332   2.107797   879.000000   52.549832    447.000000    38.0  1317.000000   \n9333   2.108022   884.000000   52.555448    528.000000    96.0  1148.000000   \n9334   2.108247   980.000000   52.561064    744.000000   174.0   840.000000   \n9335   2.108473   790.000000   52.566682    471.000000    81.0  1302.000000   \n9336   2.108698  1009.000000   52.572300    710.000000   191.0   819.000000   \n9337   2.108923   872.000000   52.577918    558.000000   114.0  1054.000000   \n9338   2.109149   942.000000   52.583537    665.000000   134.0   923.000000   \n9339   2.109374  1015.000000   52.589157    608.000000   113.0   873.000000   \n9340   2.109600   979.000000   52.594777    547.000000    73.0   952.000000   \n9341   2.109825   972.000000   52.600398    542.000000   103.0  1029.000000   \n9342   2.110051   992.000000   52.606020    565.000000   121.0   912.000000   \n9343   2.110276   940.000000   52.611642    583.000000    93.0   942.000000   \n9344   2.110502   963.000000   52.617264    617.000000    85.0   902.000000   \n9345   2.110727   971.000000   52.622888    585.000000    79.0   928.000000   \n9346   2.110953   887.000000   52.628512    488.000000    55.0  1184.000000   \n9347   2.111178   944.000000   52.634136    551.000000    98.0  1063.000000   \n9348   2.111404   970.000000   52.639761    592.000000   190.0   909.000000   \n9349   2.111630  1036.000000   52.645387    636.000000   122.0   845.000000   \n9350   2.111855   959.000000   52.651013    578.000000   100.0   909.000000   \n9351   2.112081   993.000000   52.656640    640.000000    85.0   848.000000   \n9352   2.112307   993.000000   52.662268    604.000000    85.0   848.000000   \n9353   2.112532  1122.000000   52.667896    811.000000   181.0   641.000000   \n9354   2.112758   883.000000   52.673524    530.000000    63.0   997.000000   \n9355   2.112984   818.000000   52.679154    473.000000    47.0  1257.000000   \n9356   2.113210   864.000000   52.684784    478.000000    52.0  1116.000000   \n\n      NO2_GT  PT08_S4_NO2  PT08_S5_O3          T         RH        AH  \n0      220.0       2562.0      2342.0  12.400000  74.700000  1.074100  \n1      190.0       2477.0      2237.0  11.500000  76.200000  1.032400  \n2      192.0       2235.0      2452.0  13.700000  52.800000  0.824400  \n3      227.0       2536.0      2386.0  13.200000  72.600000  1.093600  \n4      255.0       2338.0      2465.0  15.500000  62.800000  1.097900  \n5      269.0       2271.0      2523.0  12.600000  55.900000  0.814200  \n6      180.0       2775.0      2372.0  22.500000  61.500000  1.657900  \n7      171.0       2405.0      2069.0  15.400000  73.000000  1.268800  \n8      248.0       1446.0       942.0  17.601325  47.308400  0.985417  \n9      119.0       2643.0      1927.0  20.900000  67.500000  1.653900  \n10     219.0       1446.0       942.0  17.603206  47.313456  0.985522  \n11     252.0       1832.0      2415.0   6.200000  56.900000  0.541900  \n12     171.0       2609.0      2204.0  23.100000  61.100000  1.708200  \n13     242.0       1820.0      2480.0   7.100000  50.300000  0.510000  \n14     225.0       1811.0      2312.0   7.800000  48.100000  0.511500  \n15     185.0       1901.0      1855.0  15.200000  57.500000  0.982900  \n16     227.0       1446.0       942.0  17.605088  47.318513  0.985627  \n17     203.0       1446.0       942.0  17.606969  47.323570  0.985733  \n18     272.0       1964.0      2331.0   9.200000  39.300000  0.457300  \n19     247.0       1757.0      2238.0   8.000000  45.900000  0.493600  \n20     163.0       2486.0      2235.0  24.300000  54.300000  1.627600  \n21     149.0       2567.0      2106.0  21.000000  64.900000  1.598700  \n22     187.0       2641.0      2161.0  23.200000  58.700000  1.651000  \n23     181.0       2066.0      1961.0  10.100000  79.300000  0.979500  \n24     276.0       1446.0       942.0  17.608851  47.328627  0.985838  \n25     188.0       2040.0      1883.0  16.200000  62.600000  1.145500  \n26     178.0       1949.0      2025.0  10.400000  79.300000  0.999300  \n27     149.0       2665.0      2184.0  14.800000  54.300000  0.907600  \n28     180.0       2483.0      2165.0  23.000000  54.200000  1.506600  \n29     205.0       1971.0      2234.0  14.600000  67.700000  1.116400  \n...      ...          ...         ...        ...        ...       ...  \n9327   108.0        825.0       871.0   0.800000  53.800000  0.354200  \n9328    83.0       1446.0       942.0  18.303407  49.190180  1.024613  \n9329   146.0       1065.0      1390.0   5.100000  65.900000  0.582700  \n9330    30.0        738.0       312.0   6.900000  39.100000  0.390100  \n9331    45.0        803.0       382.0   6.400000  49.800000  0.481400  \n9332    36.0        910.0       348.0   4.000000  81.500000  0.671200  \n9333    86.0        960.0       619.0   2.900000  85.300000  0.650300  \n9334   119.0        979.0       970.0   2.800000  70.900000  0.538300  \n9335    75.0        669.0       532.0  -1.400000  44.900000  0.253600  \n9336   136.0        974.0      1011.0   4.400000  63.900000  0.538500  \n9337   101.0        807.0       853.0   0.500000  59.400000  0.384100  \n9338    91.0        912.0       956.0   4.400000  56.400000  0.476100  \n9339    85.0       1027.0       655.0  10.300000  59.400000  0.745900  \n9340    55.0       1039.0       470.0   9.800000  68.900000  0.832900  \n9341    65.0       1056.0       443.0   9.200000  75.300000  0.876400  \n9342    84.0       1074.0       547.0   9.400000  73.100000  0.862100  \n9343    69.0        991.0       416.0  12.700000  51.800000  0.757400  \n9344    63.0       1006.0       398.0  13.200000  49.700000  0.750300  \n9345    61.0       1004.0       394.0  12.300000  55.900000  0.796600  \n9346    42.0        908.0       312.0  13.300000  50.100000  0.762400  \n9347    68.0        985.0       381.0  12.300000  51.800000  0.738400  \n9348   120.0       1018.0       509.0  12.900000  50.400000  0.744800  \n9349    90.0       1084.0       976.0   8.900000  71.900000  0.820200  \n9350    81.0       1016.0       822.0  10.100000  61.900000  0.763100  \n9351    66.0       1110.0       548.0  13.000000  65.300000  0.970400  \n9352    65.0       1160.0       762.0  14.500000  66.400000  1.091900  \n9353    92.0       1336.0      1122.0  16.200000  71.200000  1.301300  \n9354    46.0       1102.0       617.0  13.700000  68.200000  1.061100  \n9355    41.0        898.0       323.0  13.700000  48.800000  0.760600  \n9356    43.0        958.0       489.0  11.800000  56.000000  0.774300  \n\n[9357 rows x 12 columns]"
          },
          "execution_count": 145,
          "metadata": {},
          "output_type": "execute_result"
        }
      ],
      "metadata": {}
    },
    {
      "cell_type": "code",
      "source": "from sklearn.preprocessing import LabelEncoder\n\nle = LabelEncoder()\n#transform shape of y\ny = le.fit_transform(y)",
      "execution_count": 139,
      "outputs": [],
      "metadata": {}
    },
    {
      "cell_type": "code",
      "source": "from sklearn.cross_validation import train_test_split\n#split data with 70%, 30%\nX_train, X_test, y_train, y_test = train_test_split(X, y, test_size=0.3,  random_state =0)",
      "execution_count": 140,
      "outputs": [],
      "metadata": {}
    },
    {
      "cell_type": "code",
      "source": "from sklearn.preprocessing import StandardScaler\nsc = StandardScaler()\nsc.fit(X_train)\nX_train_std = sc.transform(X_train)\nX_test_std = sc.transform(X_test)",
      "execution_count": 141,
      "outputs": [],
      "metadata": {}
    },
    {
      "cell_type": "code",
      "source": "#use nn for classify\nfrom sklearn.linear_model import Perceptron\nppn =  Perceptron(n_iter=1000, eta0=0.01, random_state=0)\nppn.fit(X_train_std, y_train)",
      "execution_count": 142,
      "outputs": [
        {
          "data": {
            "text/plain": "Perceptron(alpha=0.0001, class_weight=None, eta0=0.01, fit_intercept=True,\n      n_iter=1000, n_jobs=1, penalty=None, random_state=0, shuffle=True,\n      verbose=0, warm_start=False)"
          },
          "execution_count": 142,
          "metadata": {},
          "output_type": "execute_result"
        }
      ],
      "metadata": {}
    },
    {
      "cell_type": "code",
      "source": "y_pred = ppn.predict(X_test_std)\nprint('Misclassified sample : %d' % (y_test != y_pred).sum())\n\nfrom sklearn.metrics import accuracy_score\nprint('accuracy : %.2f' % accuracy_score(y_test, y_pred))",
      "execution_count": 143,
      "outputs": [
        {
          "name": "stdout",
          "output_type": "stream",
          "text": "Misclassified sample : 578\naccuracy : 0.79\n"
        }
      ],
      "metadata": {}
    },
    {
      "cell_type": "markdown",
      "source": "But it's not desire that the accuracy not very high, maybe i should get better in preprocessing data.",
      "execution_count": null,
      "outputs": [],
      "metadata": {}
    }
  ]
}